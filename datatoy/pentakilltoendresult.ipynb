{
 "cells": [
  {
   "cell_type": "code",
   "execution_count": 138,
   "id": "bacde6c1",
   "metadata": {},
   "outputs": [
    {
     "data": {
      "text/plain": [
       "(14057, 63)"
      ]
     },
     "execution_count": 138,
     "metadata": {},
     "output_type": "execute_result"
    }
   ],
   "source": [
    "import pandas as pd\n",
    "import numpy as np\n",
    "df = pd.read_csv('data.csv')\n",
    "df.shape # row , column 개수 확인"
   ]
  },
  {
   "cell_type": "code",
   "execution_count": null,
   "id": "0813a18e",
   "metadata": {},
   "outputs": [],
   "source": [
    "df.head(10) ## 데이터가 잘 뽑혔는지 10개 확인"
   ]
  },
  {
   "cell_type": "code",
   "execution_count": 134,
   "id": "a2aace6f",
   "metadata": {},
   "outputs": [
    {
     "data": {
      "text/plain": [
       "16"
      ]
     },
     "execution_count": 134,
     "metadata": {},
     "output_type": "execute_result"
    }
   ],
   "source": [
    "fb_sub =df['pentaKills'] == 1\n",
    "fb = df[fb_sub]\n",
    "len(fb) ##행렬의 len(개수)"
   ]
  },
  {
   "cell_type": "code",
   "execution_count": 132,
   "id": "73551d1c",
   "metadata": {},
   "outputs": [
    {
     "data": {
      "text/plain": [
       "6923"
      ]
     },
     "execution_count": 132,
     "metadata": {},
     "output_type": "execute_result"
    }
   ],
   "source": [
    "win_sub = df['win'] == True ## 조건 (win에서 true 값 찾기 : 이긴경기)\n",
    "wi = df[win_sub] ## 찾은 값을 다시 배열화 시킴\n",
    "len(wi) ## 행렬의 len(개수)"
   ]
  },
  {
   "cell_type": "code",
   "execution_count": 139,
   "id": "4888116c",
   "metadata": {},
   "outputs": [
    {
     "data": {
      "text/plain": [
       "7134"
      ]
     },
     "execution_count": 139,
     "metadata": {},
     "output_type": "execute_result"
    }
   ],
   "source": [
    "win_sub = df['win'] == False ## 조건 (win에서 False 값 찾기 : 진경기)\n",
    "lo = df[win_sub] ## 찾은 값을 다시 배열화 시킴\n",
    "len(lo) ## 행렬의 len(개수)"
   ]
  },
  {
   "cell_type": "code",
   "execution_count": 131,
   "id": "1459b0d0",
   "metadata": {},
   "outputs": [
    {
     "name": "stdout",
     "output_type": "stream",
     "text": [
      "3\n",
      "13\n"
     ]
    }
   ],
   "source": [
    "mask1 = df['pentaKills'] == 1\n",
    "mask2 = df['win'] == False\n",
    "mask3 = df['win'] == True\n",
    "result = (df[mask1 & mask2]) ## 펜타킬을 하고 진 경기수\n",
    "result1 = (df[mask1 & mask3])## 펜타킬을 하고 이긴 경기수\n",
    "print(len(result))##(mask1 과 mask2 조건을 만족하는 수)\n",
    "print(len(result1)) ##(mask1 과 mask3 조건을 만족하는 수)"
   ]
  },
  {
   "cell_type": "code",
   "execution_count": 137,
   "id": "15015b32",
   "metadata": {},
   "outputs": [
    {
     "name": "stdout",
     "output_type": "stream",
     "text": [
      "0.04205214465937763\n",
      "0.18777986422071355\n",
      "0.02134168030162908\n",
      "0.09248061464039269\n",
      "0.11382229494202177\n"
     ]
    }
   ],
   "source": [
    "lopenta = len(result)/len(lo)\n",
    "winpenta = len(result1)/len(wi)\n",
    "lpenta = len(result)/len(data)\n",
    "wpenta = len(result1)/len(data)\n",
    "tpenta = len(fb)/len(data)\n",
    "print(lopenta*100)  ##진 경기중 펜타킬을 하고 질 확률\n",
    "print(winpenta*100) ##이긴경기중 펜타킬을 할 확률\n",
    "print(lpenta*100)  ##전체경기중에 펜타킬을 하고 질 확률\n",
    "print(wpenta*100) ##전체경기중에 펜타킬을 하고 이길 확률\n",
    "print(tpenta*100) ##전체경기중에 펜타킬할 확률\n"
   ]
  },
  {
   "cell_type": "code",
   "execution_count": null,
   "id": "23efd1d7",
   "metadata": {},
   "outputs": [],
   "source": []
  },
  {
   "cell_type": "code",
   "execution_count": null,
   "id": "4f383610",
   "metadata": {},
   "outputs": [],
   "source": []
  }
 ],
 "metadata": {
  "kernelspec": {
   "display_name": "Python 3",
   "language": "python",
   "name": "python3"
  },
  "language_info": {
   "codemirror_mode": {
    "name": "ipython",
    "version": 3
   },
   "file_extension": ".py",
   "mimetype": "text/x-python",
   "name": "python",
   "nbconvert_exporter": "python",
   "pygments_lexer": "ipython3",
   "version": "3.8.8"
  }
 },
 "nbformat": 4,
 "nbformat_minor": 5
}
