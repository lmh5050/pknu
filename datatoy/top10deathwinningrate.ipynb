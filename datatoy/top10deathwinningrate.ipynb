{
 "cells": [
  {
   "cell_type": "code",
   "execution_count": 1,
   "id": "6313c028",
   "metadata": {},
   "outputs": [
    {
     "data": {
      "text/plain": [
       "(14057, 63)"
      ]
     },
     "execution_count": 1,
     "metadata": {},
     "output_type": "execute_result"
    }
   ],
   "source": [
    "import pandas as pd\n",
    "import numpy as np\n",
    "df = pd.read_csv('data.csv')\n",
    "df.shape # row , column 개수 확인"
   ]
  },
  {
   "cell_type": "code",
   "execution_count": null,
   "id": "6ef9c204",
   "metadata": {},
   "outputs": [],
   "source": [
    "df.head(10) ## 데이터가 잘 뽑혔는지 10개 확인"
   ]
  },
  {
   "cell_type": "code",
   "execution_count": 21,
   "id": "8f3a617c",
   "metadata": {},
   "outputs": [
    {
     "data": {
      "text/plain": [
       "84"
      ]
     },
     "execution_count": 21,
     "metadata": {},
     "output_type": "execute_result"
    }
   ],
   "source": [
    "deaths_sub = df['deaths'] >= 15 ## 15데스 이상의 경우의수\n",
    "lane = df[deaths_sub]\n",
    "len(lane) ##행렬의 len(개수)"
   ]
  },
  {
   "cell_type": "code",
   "execution_count": 4,
   "id": "e4496cc4",
   "metadata": {},
   "outputs": [
    {
     "data": {
      "text/plain": [
       "6923"
      ]
     },
     "execution_count": 4,
     "metadata": {},
     "output_type": "execute_result"
    }
   ],
   "source": [
    "win_sub = df['win'] == True ## 조건 (win에서 true 값 찾기 : 이긴경기)\n",
    "wi = df[deaths_sub] ## 찾은 값을 다시 배열화 시킴\n",
    "len(wi) ## 행렬의 len(개수)"
   ]
  },
  {
   "cell_type": "code",
   "execution_count": 26,
   "id": "fd7f684b",
   "metadata": {},
   "outputs": [
    {
     "name": "stdout",
     "output_type": "stream",
     "text": [
      "19\n",
      "0.13516397524365084\n"
     ]
    }
   ],
   "source": [
    "result = (df[deaths_sub & win_sub]) ## (15데스 이상 하고 게임을 이길 경우의 수)\n",
    "print(len(result))\n",
    "print((len(result)/len(df))*100)"
   ]
  },
  {
   "cell_type": "code",
   "execution_count": null,
   "id": "9ee76d1f",
   "metadata": {},
   "outputs": [],
   "source": []
  }
 ],
 "metadata": {
  "kernelspec": {
   "display_name": "Python 3",
   "language": "python",
   "name": "python3"
  },
  "language_info": {
   "codemirror_mode": {
    "name": "ipython",
    "version": 3
   },
   "file_extension": ".py",
   "mimetype": "text/x-python",
   "name": "python",
   "nbconvert_exporter": "python",
   "pygments_lexer": "ipython3",
   "version": "3.8.8"
  }
 },
 "nbformat": 4,
 "nbformat_minor": 5
}
