{
 "cells": [
  {
   "cell_type": "code",
   "execution_count": 52,
   "id": "65c4bcd3",
   "metadata": {},
   "outputs": [
    {
     "data": {
      "text/plain": [
       "(14057, 63)"
      ]
     },
     "execution_count": 52,
     "metadata": {},
     "output_type": "execute_result"
    }
   ],
   "source": [
    "import pandas as pd\n",
    "import numpy as np\n",
    "df = pd.read_csv('data.csv')\n",
    "df.shape # row , column 개수 확인"
   ]
  },
  {
   "cell_type": "code",
   "execution_count": null,
   "id": "699a0c2d",
   "metadata": {},
   "outputs": [],
   "source": [
    "df.head(10) ## 데이터가 잘 뽑혔는지 10개 확인"
   ]
  },
  {
   "cell_type": "code",
   "execution_count": 19,
   "id": "a7e0b7c7",
   "metadata": {},
   "outputs": [
    {
     "data": {
      "text/plain": [
       "10312"
      ]
     },
     "execution_count": 19,
     "metadata": {},
     "output_type": "execute_result"
    }
   ],
   "source": [
    "dur20_sub =df['gameDuration'] <=2000 ## 20분 미만 경기의 수\n",
    "dur20 = df[dur20_sub]\n",
    "len(dur20) ##행렬의 len(개수)"
   ]
  },
  {
   "cell_type": "code",
   "execution_count": 33,
   "id": "1177a85c",
   "metadata": {},
   "outputs": [
    {
     "data": {
      "text/plain": [
       "1990"
      ]
     },
     "execution_count": 33,
     "metadata": {},
     "output_type": "execute_result"
    }
   ],
   "source": [
    "dur2030_sub =( (df['gameDuration'] >= 2000) & (df['gameDuration'] <3000))## 20분 미만 경기의 수\n",
    "dur2030 = df[dur2030_sub]\n",
    "len(dur2030)"
   ]
  },
  {
   "cell_type": "code",
   "execution_count": 34,
   "id": "7aadde5b",
   "metadata": {},
   "outputs": [
    {
     "data": {
      "text/plain": [
       "1755"
      ]
     },
     "execution_count": 34,
     "metadata": {},
     "output_type": "execute_result"
    }
   ],
   "source": [
    "dur30_sub =df['gameDuration'] >=3000 ## 20분 미만 경기의 수\n",
    "dur30 = df[dur30_sub]\n",
    "len(dur30) ##행렬의 len(개수)"
   ]
  },
  {
   "cell_type": "code",
   "execution_count": null,
   "id": "58838e0e",
   "metadata": {},
   "outputs": [],
   "source": [
    "print(dur20 + dur2030 + dur30)"
   ]
  },
  {
   "cell_type": "code",
   "execution_count": 18,
   "id": "b2436f14",
   "metadata": {},
   "outputs": [
    {
     "data": {
      "text/plain": [
       "6923"
      ]
     },
     "execution_count": 18,
     "metadata": {},
     "output_type": "execute_result"
    }
   ],
   "source": [
    "win_sub = df['win'] == True ## 조건 (win에서 true 값 찾기 : 이긴경기)\n",
    "wi = df[win_sub] ## 찾은 값을 다시 배열화 시킴\n",
    "len(wi) ## 행렬의 len(개수)"
   ]
  },
  {
   "cell_type": "code",
   "execution_count": 42,
   "id": "b79bd42b",
   "metadata": {},
   "outputs": [
    {
     "name": "stdout",
     "output_type": "stream",
     "text": [
      "5074\n",
      "988\n",
      "861\n"
     ]
    }
   ],
   "source": [
    "result = (df[dur20_sub & win_sub]) ## (20분 미만 이긴경기 조건)\n",
    "result1 = (df[dur2030_sub & win_sub])## (20분미만 30분 이상 이긴경기 조건)\n",
    "result2 = (df[dur30_sub & win_sub])## (30분이상 이긴경기 조건)\n",
    "print(len(result))##(20분 미만 이긴경기 결과)\n",
    "print(len(result1)) ##(20분 미만 30분 이상 이긴 경기 조건)\n",
    "print(len(result2))##(30분 이상 경기 이긴 조건)"
   ]
  },
  {
   "cell_type": "code",
   "execution_count": 61,
   "id": "d786a952",
   "metadata": {},
   "outputs": [
    {
     "name": "stdout",
     "output_type": "stream",
     "text": [
      "49.204809930178435\n",
      "49.64824120603015\n",
      "49.059829059829056\n"
     ]
    }
   ],
   "source": [
    "print((len(result)/len(dur20))*100)\n",
    "print((len(result1)/len(dur2030))*100)\n",
    "print((len(result2)/len(dur30))*100)"
   ]
  },
  {
   "cell_type": "code",
   "execution_count": null,
   "id": "33f5aa52",
   "metadata": {},
   "outputs": [],
   "source": []
  }
 ],
 "metadata": {
  "kernelspec": {
   "display_name": "Python 3",
   "language": "python",
   "name": "python3"
  },
  "language_info": {
   "codemirror_mode": {
    "name": "ipython",
    "version": 3
   },
   "file_extension": ".py",
   "mimetype": "text/x-python",
   "name": "python",
   "nbconvert_exporter": "python",
   "pygments_lexer": "ipython3",
   "version": "3.8.8"
  }
 },
 "nbformat": 4,
 "nbformat_minor": 5
}
