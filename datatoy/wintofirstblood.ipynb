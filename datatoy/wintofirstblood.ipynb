{
 "cells": [
  {
   "cell_type": "code",
   "execution_count": 1,
   "id": "751a0a99",
   "metadata": {},
   "outputs": [
    {
     "data": {
      "text/plain": [
       "(14057, 63)"
      ]
     },
     "execution_count": 1,
     "metadata": {},
     "output_type": "execute_result"
    }
   ],
   "source": [
    "import pandas as pd\n",
    "import numpy as np\n",
    "import matplotlib.pyplot as plt\n",
    "df = pd.read_csv('data.csv')\n",
    "df.shape # row , column 개수 확인"
   ]
  },
  {
   "cell_type": "code",
   "execution_count": null,
   "id": "cca8120b",
   "metadata": {},
   "outputs": [],
   "source": [
    "df.head(10) ## 데이터가 잘 뽑혔는지 10개 확인"
   ]
  },
  {
   "cell_type": "code",
   "execution_count": 4,
   "id": "8fd7b26e",
   "metadata": {},
   "outputs": [
    {
     "data": {
      "text/plain": [
       "1340"
      ]
     },
     "execution_count": 4,
     "metadata": {},
     "output_type": "execute_result"
    }
   ],
   "source": [
    "fb_sub =df['firstBloodKill'] == True\n",
    "fb = df[fb_sub]\n",
    "len(fb) ##행렬의 len(개수)"
   ]
  },
  {
   "cell_type": "code",
   "execution_count": 5,
   "id": "da860a0b",
   "metadata": {},
   "outputs": [
    {
     "data": {
      "text/plain": [
       "6923"
      ]
     },
     "execution_count": 5,
     "metadata": {},
     "output_type": "execute_result"
    }
   ],
   "source": [
    "win_sub = df['win'] == True ## 조건 (win에서 true 값 찾기)\n",
    "wi = df[win_sub] ## 찾은 값을 다시 배열화 시킴\n",
    "len(wi) ## 행렬의 len(개수)"
   ]
  },
  {
   "cell_type": "code",
   "execution_count": 7,
   "id": "d222af33",
   "metadata": {},
   "outputs": [
    {
     "data": {
      "text/plain": [
       "753"
      ]
     },
     "execution_count": 7,
     "metadata": {},
     "output_type": "execute_result"
    }
   ],
   "source": [
    "mask1 = df['firstBloodKill'] == True\n",
    "mask2 = df['win'] == True\n",
    "result = (df[mask1 & mask2])\n",
    "len(result) ##(mask1 과 mask2 조건을 만족하는 수)"
   ]
  },
  {
   "cell_type": "code",
   "execution_count": 8,
   "id": "cc963c12",
   "metadata": {},
   "outputs": [
    {
     "data": {
      "text/plain": [
       "5.3567617557089"
      ]
     },
     "execution_count": 8,
     "metadata": {},
     "output_type": "execute_result"
    }
   ],
   "source": [
    "fresult = len(result)/len(df)\n",
    "fresult*100"
   ]
  },
  {
   "cell_type": "code",
   "execution_count": null,
   "id": "1d346f6f",
   "metadata": {},
   "outputs": [],
   "source": []
  }
 ],
 "metadata": {
  "kernelspec": {
   "display_name": "Python 3",
   "language": "python",
   "name": "python3"
  },
  "language_info": {
   "codemirror_mode": {
    "name": "ipython",
    "version": 3
   },
   "file_extension": ".py",
   "mimetype": "text/x-python",
   "name": "python",
   "nbconvert_exporter": "python",
   "pygments_lexer": "ipython3",
   "version": "3.8.8"
  }
 },
 "nbformat": 4,
 "nbformat_minor": 5
}
